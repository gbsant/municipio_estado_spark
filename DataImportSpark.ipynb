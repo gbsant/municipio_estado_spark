{
 "cells": [
  {
   "cell_type": "code",
   "execution_count": 29,
   "id": "cae9823e-8f9e-46eb-8f57-d97fddb82749",
   "metadata": {
    "tags": []
   },
   "outputs": [],
   "source": [
    "# importação de bilbiotecas\n",
    "import pyspark\n",
    "import boto3\n",
    "from io import StringIO \n",
    "from pyspark.sql import SparkSession\n",
    "from pyspark.sql.types import StructType,StructField, StringType, IntegerType \n",
    "from pyspark.sql.types import ArrayType, DoubleType, BooleanType\n",
    "from pyspark.sql.functions import col,array_contains"
   ]
  },
  {
   "cell_type": "code",
   "execution_count": 3,
   "id": "a1ef9176-0ca7-4e32-8bb6-5786b941833e",
   "metadata": {
    "tags": []
   },
   "outputs": [],
   "source": [
    "# Criando uma sessão com o Spark que existe localmente(atualmente configurado junto com o JupyterLab)\n",
    "spark = SparkSession.builder \\\n",
    "      .master(\"local[2]\") \\\n",
    "      .appName(\"AwariAula08Ex\") \\\n",
    "      .getOrCreate() "
   ]
  },
  {
   "cell_type": "code",
   "execution_count": 4,
   "id": "f1493d4b-2c6f-4880-b2d3-d6bbcfe0c1aa",
   "metadata": {
    "tags": []
   },
   "outputs": [],
   "source": [
    "spark.stop()\n",
    "\n",
    "\n",
    "conf = pyspark.SparkConf()\n",
    "\n",
    "# Criando uma sessão com o Spark que existe localmente(atualmente configurado junto com o JupyterLab)\n",
    "conf.setMaster(\"local[2]\") \n",
    "conf.set(\"spark.driver.host\", \"awari-jupyterlab\") \\\n",
    "    .set(\"spark.sql.sources.commitProtocolClass\", \"org.apache.spark.sql.execution.datasources.SQLHadoopMapReduceCommitProtocol\") \\\n",
    "    .set(\"parquet.enable.summary-metadata\", \"false\") \\\n",
    "    .set(\"mapreduce.fileoutputcommitter.marksuccessfuljobs\", \"false\") \\\n",
    "    .set(\"spark.driver.port\", \"20020\") \\\n",
    "    .set(\"spark.hadoop.fs.s3a.endpoint\", 'awari-nginx:9000') \\\n",
    "    .set(\"spark.hadoop.fs.s3a.endpoint.region\", 'sa-east-1') \\\n",
    "    .set(\"spark.hadoop.fs.s3a.access.key\", 'rwGPDEWtGtCIQnKe') \\\n",
    "    .set(\"spark.hadoop.fs.s3a.secret.key\", 'dQWHX0cNzHFM83UZOiKlsPdpNK4PRMtm') \\\n",
    "    .set(\"spark.hadoop.fs.s3a.impl\", \"org.apache.hadoop.fs.s3a.S3AFileSystem\") \\\n",
    "    .set(\"spark.hadoop.fs.s3a.connection.ssl.enabled\", \"false\") \\\n",
    "    .set(\"spark.hadoop.com.amazonaws.services.s3.enableV2\", \"true\") \\\n",
    "    .set(\"spark.hadoop.fs.s3a.committer.staging.conflict-mode\", \"replace\") \\\n",
    "    .set(\"spark.hadoop.fs.s3a.fast.upload\", True) \\\n",
    "    .set(\"spark.hadoop.fs.s3a.path.style.access\", True) \\\n",
    "    .set(\"spark.hadoop.fs.s3a.committer.name\", \"directory\") \\\n",
    "    .set(\"spark.hadoop.fs.s3a.committer.staging.tmp.path\", \"/tmp/staging\")\n",
    "\n",
    "conf.setAppName('AwariAula08Ex')\n",
    "sc = pyspark.SparkContext(conf=conf)\n",
    "\n",
    "spark = SparkSession(sc)"
   ]
  },
  {
   "cell_type": "code",
   "execution_count": 30,
   "id": "4011c522-1d50-420d-931b-315ba89db017",
   "metadata": {
    "tags": []
   },
   "outputs": [],
   "source": [
    "# conexao com MinIo\n",
    "client = boto3.client('s3', \n",
    "    endpoint_url='http://awari-minio-nginx:9000',\n",
    "    aws_access_key_id='rwGPDEWtGtCIQnKe',\n",
    "    aws_secret_access_key='dQWHX0cNzHFM83UZOiKlsPdpNK4PRMtm',\n",
    "    aws_session_token=None,\n",
    "    config=boto3.session.Config(signature_version='s3v4'),\n",
    "    verify=False,\n",
    "    region_name='sa-east-1'\n",
    ")"
   ]
  },
  {
   "cell_type": "code",
   "execution_count": 5,
   "id": "40a109d4-1770-4e07-bb78-7bd5185741e7",
   "metadata": {
    "tags": []
   },
   "outputs": [
    {
     "name": "stdout",
     "output_type": "stream",
     "text": [
      "+---------+---+-------------------+--------+---------+--------+\n",
      "|codigo_uf| uf|               nome|latitude|longitude|  regiao|\n",
      "+---------+---+-------------------+--------+---------+--------+\n",
      "|       11| RO|           Rondônia|  -10.83|   -63.34|   Norte|\n",
      "|       12| AC|               Acre|   -8.77|   -70.55|   Norte|\n",
      "|       13| AM|           Amazonas|   -3.47|    -65.1|   Norte|\n",
      "|       14| RR|            Roraima|    1.99|   -61.33|   Norte|\n",
      "|       15| PA|               Pará|   -3.79|   -52.48|   Norte|\n",
      "|       16| AP|              Amapá|    1.41|   -51.77|   Norte|\n",
      "|       17| TO|          Tocantins|   -9.46|   -48.26|   Norte|\n",
      "|       21| MA|           Maranhão|   -5.42|   -45.44|Nordeste|\n",
      "|       22| PI|              Piauí|    -6.6|   -42.28|Nordeste|\n",
      "|       23| CE|              Ceará|    -5.2|   -39.53|Nordeste|\n",
      "|       24| RN|Rio Grande do Norte|   -5.81|   -36.59|Nordeste|\n",
      "|       25| PB|            Paraíba|   -7.28|   -36.72|Nordeste|\n",
      "|       26| PE|         Pernambuco|   -8.38|   -37.86|Nordeste|\n",
      "|       27| AL|            Alagoas|   -9.62|   -36.82|Nordeste|\n",
      "|       28| SE|            Sergipe|  -10.57|   -37.45|Nordeste|\n",
      "|       29| BA|              Bahia|  -13.29|   -41.71|Nordeste|\n",
      "|       31| MG|       Minas Gerais|   -18.1|   -44.38| Sudeste|\n",
      "|       32| ES|     Espírito Santo|  -19.19|   -40.34| Sudeste|\n",
      "|       33| RJ|     Rio de Janeiro|  -22.25|   -42.66| Sudeste|\n",
      "|       35| SP|          São Paulo|  -22.19|   -48.79| Sudeste|\n",
      "+---------+---+-------------------+--------+---------+--------+\n",
      "only showing top 20 rows\n",
      "\n",
      "root\n",
      " |-- codigo_uf: string (nullable = true)\n",
      " |-- uf: string (nullable = true)\n",
      " |-- nome: string (nullable = true)\n",
      " |-- latitude: string (nullable = true)\n",
      " |-- longitude: string (nullable = true)\n",
      " |-- regiao: string (nullable = true)\n",
      "\n",
      "None None\n"
     ]
    }
   ],
   "source": [
    "df_estados = spark.read.option(\"header\", True).csv(\"exercicios/municipios-estados/csv/estados.csv\")\n",
    "print(df_estados.show(), df_estados.printSchema())"
   ]
  },
  {
   "cell_type": "code",
   "execution_count": 6,
   "id": "69ce18d3-d442-46ec-9a53-cc68cebd8532",
   "metadata": {
    "tags": []
   },
   "outputs": [
    {
     "name": "stdout",
     "output_type": "stream",
     "text": [
      "+-----------+-------------------+--------+---------+-------+---------+--------+---+-----------------+\n",
      "|codigo_ibge|               nome|latitude|longitude|capital|codigo_uf|siafi_id|ddd|     fuso_horario|\n",
      "+-----------+-------------------+--------+---------+-------+---------+--------+---+-----------------+\n",
      "|    5200050|    Abadia de Goiás|-16.7573| -49.4412|      0|       52|    1050| 62|America/Sao_Paulo|\n",
      "|    3100104|Abadia dos Dourados|-18.4831| -47.3916|      0|       31|    4001| 34|America/Sao_Paulo|\n",
      "|    5200100|          Abadiânia| -16.197| -48.7057|      0|       52|    9201| 62|America/Sao_Paulo|\n",
      "|    3100203|             Abaeté|-19.1551| -45.4444|      0|       31|    4003| 37|America/Sao_Paulo|\n",
      "|    1500107|         Abaetetuba|-1.72183| -48.8788|      0|       15|    0401| 91|America/Sao_Paulo|\n",
      "|    2300101|            Abaiara|-7.34588| -39.0416|      0|       23|    1301| 88|America/Sao_Paulo|\n",
      "|    2900108|             Abaíra|-13.2488| -41.6619|      0|       29|    3301| 77|America/Sao_Paulo|\n",
      "|    2900207|              Abaré|-8.72073| -39.1162|      0|       29|    3303| 75|America/Sao_Paulo|\n",
      "|    4100103|             Abatiá|-23.3049| -50.3133|      0|       41|    7401| 43|America/Sao_Paulo|\n",
      "|    4200051|      Abdon Batista|-27.6126| -51.0233|      0|       42|    9939| 49|America/Sao_Paulo|\n",
      "|    1500131|    Abel Figueiredo|-4.95333| -48.3933|      0|       15|    0375| 94|America/Sao_Paulo|\n",
      "|    4200101|       Abelardo Luz|-26.5716| -52.3229|      0|       42|    8001| 49|America/Sao_Paulo|\n",
      "|    3100302|         Abre Campo|-20.2996| -42.4743|      0|       31|    4005| 31|America/Sao_Paulo|\n",
      "|    2600054|       Abreu e Lima|-7.90072| -34.8984|      0|       26|    2631| 81|America/Sao_Paulo|\n",
      "|    1700251|        Abreulândia|-9.62101| -49.1518|      0|       17|    0337| 63|America/Sao_Paulo|\n",
      "|    3100401|            Acaiaca| -20.359| -43.1439|      0|       31|    4007| 31|America/Sao_Paulo|\n",
      "|    2100055|         Açailândia|-4.94714| -47.5004|      0|       21|    0961| 99|America/Sao_Paulo|\n",
      "|    2900306|          Acajutiba|-11.6575| -38.0197|      0|       29|    3305| 75|America/Sao_Paulo|\n",
      "|    1500206|              Acará|-1.95383| -48.1985|      0|       15|    0403| 91|America/Sao_Paulo|\n",
      "|    2300150|            Acarape|-4.22083| -38.7055|      0|       23|    1231| 85|America/Sao_Paulo|\n",
      "+-----------+-------------------+--------+---------+-------+---------+--------+---+-----------------+\n",
      "only showing top 20 rows\n",
      "\n",
      "root\n",
      " |-- codigo_ibge: string (nullable = true)\n",
      " |-- nome: string (nullable = true)\n",
      " |-- latitude: string (nullable = true)\n",
      " |-- longitude: string (nullable = true)\n",
      " |-- capital: string (nullable = true)\n",
      " |-- codigo_uf: string (nullable = true)\n",
      " |-- siafi_id: string (nullable = true)\n",
      " |-- ddd: string (nullable = true)\n",
      " |-- fuso_horario: string (nullable = true)\n",
      "\n",
      "None None\n"
     ]
    }
   ],
   "source": [
    "df_municipios = spark.read.option(\"header\", True).csv(\"exercicios/municipios-estados/csv/municipios.csv\")\n",
    "print(df_municipios.show(), df_municipios.printSchema())"
   ]
  },
  {
   "cell_type": "code",
   "execution_count": 17,
   "id": "ef7c484e-006b-498d-9921-3d8de1cd9c87",
   "metadata": {
    "tags": []
   },
   "outputs": [],
   "source": [
    "df_1 = df_municipios.toPandas()\n",
    "df_2 = df_estados.toPandas()"
   ]
  },
  {
   "cell_type": "code",
   "execution_count": 26,
   "id": "7147f3e1-3081-4c9e-a5f7-d5ec9816636a",
   "metadata": {},
   "outputs": [
    {
     "data": {
      "text/html": [
       "<div>\n",
       "<style scoped>\n",
       "    .dataframe tbody tr th:only-of-type {\n",
       "        vertical-align: middle;\n",
       "    }\n",
       "\n",
       "    .dataframe tbody tr th {\n",
       "        vertical-align: top;\n",
       "    }\n",
       "\n",
       "    .dataframe thead th {\n",
       "        text-align: right;\n",
       "    }\n",
       "</style>\n",
       "<table border=\"1\" class=\"dataframe\">\n",
       "  <thead>\n",
       "    <tr style=\"text-align: right;\">\n",
       "      <th></th>\n",
       "      <th>codigo_ibge</th>\n",
       "      <th>nome</th>\n",
       "      <th>latitude</th>\n",
       "      <th>longitude</th>\n",
       "      <th>capital</th>\n",
       "      <th>codigo_uf</th>\n",
       "      <th>siafi_id</th>\n",
       "      <th>ddd</th>\n",
       "      <th>fuso_horario</th>\n",
       "      <th>uf</th>\n",
       "    </tr>\n",
       "  </thead>\n",
       "  <tbody>\n",
       "    <tr>\n",
       "      <th>0</th>\n",
       "      <td>5200050</td>\n",
       "      <td>Abadia de Goiás</td>\n",
       "      <td>-16.7573</td>\n",
       "      <td>-49.4412</td>\n",
       "      <td>0</td>\n",
       "      <td>52</td>\n",
       "      <td>1050</td>\n",
       "      <td>62</td>\n",
       "      <td>America/Sao_Paulo</td>\n",
       "      <td>GO</td>\n",
       "    </tr>\n",
       "    <tr>\n",
       "      <th>1</th>\n",
       "      <td>5200100</td>\n",
       "      <td>Abadiânia</td>\n",
       "      <td>-16.197</td>\n",
       "      <td>-48.7057</td>\n",
       "      <td>0</td>\n",
       "      <td>52</td>\n",
       "      <td>9201</td>\n",
       "      <td>62</td>\n",
       "      <td>America/Sao_Paulo</td>\n",
       "      <td>GO</td>\n",
       "    </tr>\n",
       "    <tr>\n",
       "      <th>2</th>\n",
       "      <td>5200134</td>\n",
       "      <td>Acreúna</td>\n",
       "      <td>-17.396</td>\n",
       "      <td>-50.3749</td>\n",
       "      <td>0</td>\n",
       "      <td>52</td>\n",
       "      <td>9645</td>\n",
       "      <td>64</td>\n",
       "      <td>America/Sao_Paulo</td>\n",
       "      <td>GO</td>\n",
       "    </tr>\n",
       "    <tr>\n",
       "      <th>3</th>\n",
       "      <td>5200159</td>\n",
       "      <td>Adelândia</td>\n",
       "      <td>-16.4127</td>\n",
       "      <td>-50.1657</td>\n",
       "      <td>0</td>\n",
       "      <td>52</td>\n",
       "      <td>9769</td>\n",
       "      <td>64</td>\n",
       "      <td>America/Sao_Paulo</td>\n",
       "      <td>GO</td>\n",
       "    </tr>\n",
       "    <tr>\n",
       "      <th>4</th>\n",
       "      <td>5200175</td>\n",
       "      <td>Água Fria de Goiás</td>\n",
       "      <td>-14.9778</td>\n",
       "      <td>-47.7823</td>\n",
       "      <td>0</td>\n",
       "      <td>52</td>\n",
       "      <td>9771</td>\n",
       "      <td>62</td>\n",
       "      <td>America/Sao_Paulo</td>\n",
       "      <td>GO</td>\n",
       "    </tr>\n",
       "    <tr>\n",
       "      <th>...</th>\n",
       "      <td>...</td>\n",
       "      <td>...</td>\n",
       "      <td>...</td>\n",
       "      <td>...</td>\n",
       "      <td>...</td>\n",
       "      <td>...</td>\n",
       "      <td>...</td>\n",
       "      <td>...</td>\n",
       "      <td>...</td>\n",
       "      <td>...</td>\n",
       "    </tr>\n",
       "    <tr>\n",
       "      <th>5565</th>\n",
       "      <td>3306107</td>\n",
       "      <td>Valença</td>\n",
       "      <td>-22.2445</td>\n",
       "      <td>-43.7129</td>\n",
       "      <td>0</td>\n",
       "      <td>33</td>\n",
       "      <td>5921</td>\n",
       "      <td>24</td>\n",
       "      <td>America/Sao_Paulo</td>\n",
       "      <td>RJ</td>\n",
       "    </tr>\n",
       "    <tr>\n",
       "      <th>5566</th>\n",
       "      <td>3306156</td>\n",
       "      <td>Varre-Sai</td>\n",
       "      <td>-20.9276</td>\n",
       "      <td>-41.8701</td>\n",
       "      <td>0</td>\n",
       "      <td>33</td>\n",
       "      <td>2917</td>\n",
       "      <td>22</td>\n",
       "      <td>America/Sao_Paulo</td>\n",
       "      <td>RJ</td>\n",
       "    </tr>\n",
       "    <tr>\n",
       "      <th>5567</th>\n",
       "      <td>3306206</td>\n",
       "      <td>Vassouras</td>\n",
       "      <td>-22.4059</td>\n",
       "      <td>-43.6686</td>\n",
       "      <td>0</td>\n",
       "      <td>33</td>\n",
       "      <td>5923</td>\n",
       "      <td>24</td>\n",
       "      <td>America/Sao_Paulo</td>\n",
       "      <td>RJ</td>\n",
       "    </tr>\n",
       "    <tr>\n",
       "      <th>5568</th>\n",
       "      <td>3306305</td>\n",
       "      <td>Volta Redonda</td>\n",
       "      <td>-22.5202</td>\n",
       "      <td>-44.0996</td>\n",
       "      <td>0</td>\n",
       "      <td>33</td>\n",
       "      <td>5925</td>\n",
       "      <td>24</td>\n",
       "      <td>America/Sao_Paulo</td>\n",
       "      <td>RJ</td>\n",
       "    </tr>\n",
       "    <tr>\n",
       "      <th>5569</th>\n",
       "      <td>5300108</td>\n",
       "      <td>Brasília</td>\n",
       "      <td>-15.7795</td>\n",
       "      <td>-47.9297</td>\n",
       "      <td>1</td>\n",
       "      <td>53</td>\n",
       "      <td>9701</td>\n",
       "      <td>61</td>\n",
       "      <td>America/Sao_Paulo</td>\n",
       "      <td>DF</td>\n",
       "    </tr>\n",
       "  </tbody>\n",
       "</table>\n",
       "<p>5570 rows × 10 columns</p>\n",
       "</div>"
      ],
      "text/plain": [
       "     codigo_ibge                nome  latitude longitude capital codigo_uf  \\\n",
       "0        5200050     Abadia de Goiás  -16.7573  -49.4412       0        52   \n",
       "1        5200100           Abadiânia   -16.197  -48.7057       0        52   \n",
       "2        5200134             Acreúna   -17.396  -50.3749       0        52   \n",
       "3        5200159           Adelândia  -16.4127  -50.1657       0        52   \n",
       "4        5200175  Água Fria de Goiás  -14.9778  -47.7823       0        52   \n",
       "...          ...                 ...       ...       ...     ...       ...   \n",
       "5565     3306107             Valença  -22.2445  -43.7129       0        33   \n",
       "5566     3306156           Varre-Sai  -20.9276  -41.8701       0        33   \n",
       "5567     3306206           Vassouras  -22.4059  -43.6686       0        33   \n",
       "5568     3306305       Volta Redonda  -22.5202  -44.0996       0        33   \n",
       "5569     5300108            Brasília  -15.7795  -47.9297       1        53   \n",
       "\n",
       "     siafi_id ddd       fuso_horario  uf  \n",
       "0        1050  62  America/Sao_Paulo  GO  \n",
       "1        9201  62  America/Sao_Paulo  GO  \n",
       "2        9645  64  America/Sao_Paulo  GO  \n",
       "3        9769  64  America/Sao_Paulo  GO  \n",
       "4        9771  62  America/Sao_Paulo  GO  \n",
       "...       ...  ..                ...  ..  \n",
       "5565     5921  24  America/Sao_Paulo  RJ  \n",
       "5566     2917  22  America/Sao_Paulo  RJ  \n",
       "5567     5923  24  America/Sao_Paulo  RJ  \n",
       "5568     5925  24  America/Sao_Paulo  RJ  \n",
       "5569     9701  61  America/Sao_Paulo  DF  \n",
       "\n",
       "[5570 rows x 10 columns]"
      ]
     },
     "execution_count": 26,
     "metadata": {},
     "output_type": "execute_result"
    }
   ],
   "source": [
    "# juncao dos 2 datasets(estados e municipios)\n",
    "df = df_1.merge(df_2[['uf', 'codigo_uf']], on='codigo_uf')\n",
    "df"
   ]
  },
  {
   "cell_type": "code",
   "execution_count": 36,
   "id": "52cf1dbc-e07c-4adf-887b-eef1ab6ccc6a",
   "metadata": {
    "tags": []
   },
   "outputs": [
    {
     "data": {
      "text/plain": [
       "{'ResponseMetadata': {'RequestId': '17C909B9962DFC58',\n",
       "  'HostId': 'e3b0c44298fc1c149afbf4c8996fb92427ae41e4649b934ca495991b7852b855',\n",
       "  'HTTPStatusCode': 200,\n",
       "  'HTTPHeaders': {'server': 'nginx/1.19.2',\n",
       "   'date': 'Tue, 23 Apr 2024 22:37:06 GMT',\n",
       "   'content-length': '0',\n",
       "   'connection': 'keep-alive',\n",
       "   'accept-ranges': 'bytes',\n",
       "   'content-security-policy': 'block-all-mixed-content',\n",
       "   'etag': '\"48eb67f2c42d8f653089ecd40ef4eeb5\"',\n",
       "   'strict-transport-security': 'max-age=31536000; includeSubDomains',\n",
       "   'vary': 'Origin, Accept-Encoding',\n",
       "   'x-amz-bucket-region': 'sa-east-1',\n",
       "   'x-amz-id-2': 'e3b0c44298fc1c149afbf4c8996fb92427ae41e4649b934ca495991b7852b855',\n",
       "   'x-amz-request-id': '17C909B9962DFC58',\n",
       "   'x-content-type-options': 'nosniff',\n",
       "   'x-xss-protection': '1; mode=block'},\n",
       "  'RetryAttempts': 0},\n",
       " 'ETag': '\"48eb67f2c42d8f653089ecd40ef4eeb5\"'}"
      ]
     },
     "execution_count": 36,
     "metadata": {},
     "output_type": "execute_result"
    }
   ],
   "source": [
    "csv_buffer = StringIO()\n",
    "df_csv = df.to_csv(csv_buffer)\n",
    "    \n",
    "client.put_object(Body=csv_buffer.getvalue(), Bucket='aula-08', Key=f'municipio_estado_spark_csv/cidades.csv')"
   ]
  },
  {
   "cell_type": "code",
   "execution_count": 37,
   "id": "4a9257d2-a5a1-4f15-9188-cb7999299922",
   "metadata": {
    "tags": []
   },
   "outputs": [
    {
     "data": {
      "text/plain": [
       "{'ResponseMetadata': {'RequestId': '17C909CC053B7D17',\n",
       "  'HostId': 'e3b0c44298fc1c149afbf4c8996fb92427ae41e4649b934ca495991b7852b855',\n",
       "  'HTTPStatusCode': 200,\n",
       "  'HTTPHeaders': {'server': 'nginx/1.19.2',\n",
       "   'date': 'Tue, 23 Apr 2024 22:38:25 GMT',\n",
       "   'content-length': '0',\n",
       "   'connection': 'keep-alive',\n",
       "   'accept-ranges': 'bytes',\n",
       "   'content-security-policy': 'block-all-mixed-content',\n",
       "   'etag': '\"9f9266e43d8fcb06dc29d1666c27b8bb\"',\n",
       "   'strict-transport-security': 'max-age=31536000; includeSubDomains',\n",
       "   'vary': 'Origin, Accept-Encoding',\n",
       "   'x-amz-bucket-region': 'sa-east-1',\n",
       "   'x-amz-id-2': 'e3b0c44298fc1c149afbf4c8996fb92427ae41e4649b934ca495991b7852b855',\n",
       "   'x-amz-request-id': '17C909CC053B7D17',\n",
       "   'x-content-type-options': 'nosniff',\n",
       "   'x-xss-protection': '1; mode=block'},\n",
       "  'RetryAttempts': 0},\n",
       " 'ETag': '\"9f9266e43d8fcb06dc29d1666c27b8bb\"'}"
      ]
     },
     "execution_count": 37,
     "metadata": {},
     "output_type": "execute_result"
    }
   ],
   "source": [
    "json_buffer = StringIO()\n",
    "df_json = df.to_json(json_buffer)\n",
    "    \n",
    "client.put_object(Body=json_buffer.getvalue(), Bucket='aula-08', Key=f'v')"
   ]
  },
  {
   "cell_type": "code",
   "execution_count": 44,
   "id": "6a6973a6-bc14-4fd9-8c69-b7a8b362e18a",
   "metadata": {
    "tags": []
   },
   "outputs": [],
   "source": [
    "df_spark = spark.createDataFrame(df)"
   ]
  },
  {
   "cell_type": "code",
   "execution_count": 45,
   "id": "ac0ccbe3-f7ec-4a50-a623-6639e2c9465f",
   "metadata": {
    "tags": []
   },
   "outputs": [],
   "source": [
    "df_spark.write.save(\"s3a://aula-08/municipio_estado_spark_parquet/cidades\")"
   ]
  },
  {
   "cell_type": "code",
   "execution_count": null,
   "id": "30905e34-2242-4a87-a46b-dabc61996b5e",
   "metadata": {},
   "outputs": [],
   "source": []
  }
 ],
 "metadata": {
  "kernelspec": {
   "display_name": "Python 3 (ipykernel)",
   "language": "python",
   "name": "python3"
  },
  "language_info": {
   "codemirror_mode": {
    "name": "ipython",
    "version": 3
   },
   "file_extension": ".py",
   "mimetype": "text/x-python",
   "name": "python",
   "nbconvert_exporter": "python",
   "pygments_lexer": "ipython3",
   "version": "3.10.9"
  }
 },
 "nbformat": 4,
 "nbformat_minor": 5
}
